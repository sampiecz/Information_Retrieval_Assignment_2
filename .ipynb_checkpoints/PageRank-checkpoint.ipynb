{
 "cells": [
  {
   "cell_type": "code",
   "execution_count": null,
   "metadata": {},
   "outputs": [],
   "source": [
    "# First we need to create the page node and add it to page node dict. \n",
    "\n",
    "# We need to check for each iteration if the page is in the dict. \n",
    "\n",
    "# If the page is in the dict we need to call the page's update function.\n",
    "\n",
    "# The page's update function should check the current page.\n",
    "\n",
    "\n"
   ]
  },
  {
   "cell_type": "code",
   "execution_count": null,
   "metadata": {},
   "outputs": [],
   "source": [
    "import numpy as np"
   ]
  },
  {
   "cell_type": "code",
   "execution_count": null,
   "metadata": {},
   "outputs": [],
   "source": [
    "# Define Page Class\n",
    "class Page():\n",
    "    \n",
    "    def __init__(self):\n",
    "        self.pageRank = 0\n",
    "        self.inlinks = np.array([])\n",
    "        self.outlinks = np.array([])\n",
    "        \n",
    "    def __str__(self):\n",
    "        return \"Inlinks: {}, Outlinks: {} \\n\".format(self.inlinks, self.outlinks)\n",
    "    \n",
    "    def update():\n",
    "        # if inlinks / backlinks are from high quality websites good\n",
    "        # else lower / worse page rank\n",
    "        pass"
   ]
  },
  {
   "cell_type": "code",
   "execution_count": null,
   "metadata": {},
   "outputs": [],
   "source": [
    "# Look at the data, get all the unique pages, make page class instances have a vector that is as big as the count of all the pages.\n",
    "# Add them to an array or dictionary. \n",
    "\n",
    "# Loop through all pages.\n",
    "## Loop through all data with count\n",
    "####If the data's value is the same as the current page add a key of count and a value of 1 to inlinks\n",
    "####Else if the data's key is the same the current page add \n",
    "####Else add a 0\n",
    "####\n",
    "#### in the original data. For the key find the page and add the outlinksCompare each individual key to each "
   ]
  },
  {
   "cell_type": "code",
   "execution_count": null,
   "metadata": {},
   "outputs": [],
   "source": []
  }
 ],
 "metadata": {
  "kernelspec": {
   "display_name": "Python 3",
   "language": "python",
   "name": "python3"
  },
  "language_info": {
   "codemirror_mode": {
    "name": "ipython",
    "version": 3
   },
   "file_extension": ".py",
   "mimetype": "text/x-python",
   "name": "python",
   "nbconvert_exporter": "python",
   "pygments_lexer": "ipython3",
   "version": "3.6.9"
  }
 },
 "nbformat": 4,
 "nbformat_minor": 4
}
